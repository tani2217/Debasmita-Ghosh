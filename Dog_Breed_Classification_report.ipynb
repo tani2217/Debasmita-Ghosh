{
 "cells": [
  {
   "cell_type": "code",
   "execution_count": null,
   "id": "be6e3e56",
   "metadata": {},
   "outputs": [],
   "source": [
    "import os\n",
    "import gc\n",
    "import numpy as np\n",
    "import pandas as pd\n",
    "import seaborn as sns\n",
    "import matplotlib.pyplot as plt\n",
    "\n",
    "import tensorflow as tf\n",
    "from tqdm.autonotebook import tqdm\n",
    "\n",
    "from sklearn.model_selection import train_test_split\n",
    "from sklearn.metrics import confusion_matrix\n",
    "\n",
    "from keras import Sequential\n",
    "from keras.utils import to_categorical\n",
    "from keras.callbacks import EarlyStopping\n",
    "from keras.optimizers import Adam, SGD\n",
    "from keras.callbacks import ReduceLROnPlateau\n",
    "from keras.layers import Flatten, Dense, BatchNormalization, Activation, Dropout\n",
    "from keras.layers import Lambda, Input, GlobalAveragePooling2D, BatchNormalization\n",
    "\n",
    "from tensorflow.keras.models import Model\n",
    "\n",
    "from keras.preprocessing.image import load_img"
   ]
  },
  {
   "cell_type": "code",
   "execution_count": null,
   "id": "1b609125",
   "metadata": {},
   "outputs": [],
   "source": [
    "label = pd.read_csv('labels.csv')\n",
    "label.head()"
   ]
  },
  {
   "cell_type": "code",
   "execution_count": null,
   "id": "30f769b4",
   "metadata": {},
   "outputs": [],
   "source": [
    "label.describe()"
   ]
  },
  {
   "cell_type": "code",
   "execution_count": null,
   "id": "e33a7400",
   "metadata": {},
   "outputs": [],
   "source": [
    "def cls(a):\n",
    "    for i in a.patches:\n",
    "        val = i.get_width()\n",
    "        x = i.get_x() + i.get_width()\n",
    "        y = i.get_y()+ i.get_height()/2\n",
    "        a.annotate(round(val,2), (x,y))\n",
    "plt.figure(figsize = (20, 40))\n",
    "a1 = sns.countplot(y=label['breed'], order = label['breed'].value_counts().index)\n",
    "cls(a1)\n",
    "plt.show()"
   ]
  },
  {
   "cell_type": "code",
   "execution_count": null,
   "id": "7c21ad61",
   "metadata": {},
   "outputs": [],
   "source": [
    "specis = sorted(list(set(label['breed'])))\n",
    "n = len(specis)\n",
    "print(\"Total breed {}\".format(n))\n",
    "d = dict(zip(specis, range(n)))\n",
    "d"
   ]
  },
  {
   "cell_type": "code",
   "execution_count": null,
   "id": "f07a90f9",
   "metadata": {},
   "outputs": [],
   "source": [
    "input_shape = (331,331,3)\n",
    "\n",
    "def img_arr(directory, label_dataframe, target_size = input_shape):\n",
    "    \n",
    "    img_label = label_dataframe['breed']\n",
    "    images = np.zeros([len(label_dataframe), target_size[0], target_size[1], target_size[2]], dtype = np.uint8)\n",
    "    y = np.zeros([len(label_dataframe), 1],dtype = np.uint8)\n",
    "    for i, name in enumerate(tqdm(label_dataframe['id'].values)):\n",
    "        img_dir = os.path.join(directory, name + '.jpg')\n",
    "        img = load_img(img_dir, target_size = target_size)\n",
    "        images[i] = img\n",
    "        del img\n",
    "        dog_breed = img_label[i]\n",
    "        y[i] = d[dog_breed]\n",
    "    y = to_categorical(y)\n",
    "    return images, y"
   ]
  },
  {
   "cell_type": "code",
   "execution_count": null,
   "id": "c7e8ae80",
   "metadata": {},
   "outputs": [],
   "source": [
    "import os\n",
    "if len(os.listdir('C:/Users/Debasmita/OneDrive/Desktop/New folder/train/')) == len(label['id']):\n",
    "    print('Number of file matches number of actual images!')\n",
    "else:\n",
    "    print('Number of file doesnot matches number of actual images!!')"
   ]
  },
  {
   "cell_type": "code",
   "execution_count": null,
   "id": "ae709f68",
   "metadata": {},
   "outputs": [],
   "source": [
    "import time \n",
    "t = time.time()\n",
    "\n",
    "X,y = img_arr('C:/Users/Debasmita/OneDrive/Desktop/New folder/train/', label[:])\n",
    "\n",
    "print('runtime in seconds: {}'.format(time.time() - t))"
   ]
  },
  {
   "cell_type": "code",
   "execution_count": null,
   "id": "c0d5eb5b",
   "metadata": {},
   "outputs": [],
   "source": [
    "p=25\n",
    "\n",
    "# setup the figure\n",
    "plt.figure(figsize=(20,20))\n",
    "\n",
    "for i in range(p):\n",
    "    a = plt.subplot(5, 5, i+1)\n",
    "    plt.title(specis[np.where(y[i] == 1)[0][0]])\n",
    "    plt.imshow(X[i].astype('int32'))"
   ]
  },
  {
   "cell_type": "code",
   "execution_count": null,
   "id": "91ab838f",
   "metadata": {},
   "outputs": [],
   "source": [
    "lrr= ReduceLROnPlateau(monitor='val_accuracy', factor=.01, patience=3, min_lr=1e-5,verbose = 1)\n",
    "\n",
    "#Prepare call backs\n",
    "EarlyStop = EarlyStopping(monitor='val_loss', patience=10, restore_best_weights=True)"
   ]
  },
  {
   "cell_type": "code",
   "execution_count": null,
   "id": "93a33742",
   "metadata": {},
   "outputs": [],
   "source": [
    "batch_size= 128\n",
    "epochs=50\n",
    "learn_rate=.001\n",
    "sgd=SGD(lr=learn_rate,momentum=.9,nesterov=False)\n",
    "adam=Adam(lr=learn_rate, beta_1=0.9, beta_2=0.999, epsilon=None,  amsgrad=False)"
   ]
  },
  {
   "cell_type": "code",
   "execution_count": null,
   "id": "e3ca0cf0",
   "metadata": {},
   "outputs": [],
   "source": [
    "image_size=(224,224)"
   ]
  },
  {
   "cell_type": "code",
   "execution_count": null,
   "id": "ea2ad37d",
   "metadata": {},
   "outputs": [],
   "source": [
    "img_size = (331,331,3)\n",
    "\n",
    "def get_features(model_name, model_preprocessor, input_size, data):\n",
    "\n",
    "    input_layer = Input(input_size)\n",
    "    preprocessor = Lambda(model_preprocessor)(input_layer)\n",
    "    base_model = model_name(weights='imagenet', include_top=False,\n",
    "                            input_shape=input_size)(preprocessor)\n",
    "    avg = GlobalAveragePooling2D()(base_model)\n",
    "    feature_extractor = Model(inputs = input_layer, outputs = avg)\n",
    "    \n",
    "    #Extract feature.\n",
    "    feature_maps = feature_extractor.predict(data, verbose=1)\n",
    "    print('Feature maps shape: ', feature_maps.shape)\n",
    "    return feature_maps"
   ]
  },
  {
   "cell_type": "code",
   "execution_count": null,
   "id": "61a7489d",
   "metadata": {},
   "outputs": [],
   "source": [
    "from keras.applications.inception_v3 import InceptionV3, preprocess_input\n",
    "inception_preprocessor = preprocess_input\n",
    "inception_features = get_features(InceptionV3,\n",
    "                                  inception_preprocessor,\n",
    "                                  img_size, X)"
   ]
  },
  {
   "cell_type": "code",
   "execution_count": null,
   "id": "300b55db",
   "metadata": {},
   "outputs": [],
   "source": [
    "from keras.applications.xception import Xception, preprocess_input\n",
    "xception_preprocessor = preprocess_input\n",
    "xception_features = get_features(Xception,\n",
    "                                 xception_preprocessor,\n",
    "                                 img_size, X)"
   ]
  },
  {
   "cell_type": "code",
   "execution_count": null,
   "id": "27b34099",
   "metadata": {},
   "outputs": [],
   "source": [
    "from keras.applications.inception_resnet_v2 import InceptionResNetV2, preprocess_input\n",
    "inc_resnet_preprocessor = preprocess_input\n",
    "inc_resnet_features = get_features(InceptionResNetV2,\n",
    "                                   inc_resnet_preprocessor,\n",
    "                                   img_size, X)"
   ]
  },
  {
   "cell_type": "code",
   "execution_count": null,
   "id": "bfadfb21",
   "metadata": {},
   "outputs": [],
   "source": [
    "from keras.applications.nasnet import NASNetLarge, preprocess_input\n",
    "nasnet_preprocessor = preprocess_input\n",
    "nasnet_features = get_features(NASNetLarge,\n",
    "                               nasnet_preprocessor,\n",
    "                               img_size, X)"
   ]
  },
  {
   "cell_type": "code",
   "execution_count": null,
   "id": "9e111b6c",
   "metadata": {},
   "outputs": [],
   "source": [
    "del X #to free up some ram memory\n",
    "gc.collect()"
   ]
  },
  {
   "cell_type": "code",
   "execution_count": null,
   "id": "12735777",
   "metadata": {},
   "outputs": [],
   "source": [
    "final_features = np.concatenate([inception_features,\n",
    "                                 xception_features,\n",
    "                                 nasnet_features,\n",
    "                                 inc_resnet_features,], axis=-1) #axis=-1 to concatinate horizontally\n",
    "\n",
    "print('Final feature maps shape', final_features.shape)"
   ]
  },
  {
   "cell_type": "code",
   "execution_count": null,
   "id": "5cfba1d4",
   "metadata": {},
   "outputs": [],
   "source": [
    "model = Sequential() \n",
    "model.add(Dropout(0.7,input_shape=(final_features.shape[1],)))\n",
    "model.add(Dense(n,activation= 'softmax'))\n",
    "\n",
    "model.compile(optimizer=adam,\n",
    "              loss='categorical_crossentropy',\n",
    "              metrics=['accuracy'])\n",
    "\n",
    "#Training the model. \n",
    "history = model.fit(final_features, y,\n",
    "            batch_size=batch_size,\n",
    "            epochs=epochs,\n",
    "            validation_split=0.2,\n",
    "            callbacks=[lrr,EarlyStop])"
   ]
  },
  {
   "cell_type": "code",
   "execution_count": null,
   "id": "19997b47",
   "metadata": {},
   "outputs": [],
   "source": [
    "history_df = pd.DataFrame(history.history)\n",
    "history_df.loc[:, ['loss', 'val_loss']].plot();\n",
    "history_df.loc[:, ['accuracy', 'val_accuracy']].plot();"
   ]
  },
  {
   "cell_type": "code",
   "execution_count": null,
   "id": "fe254eac",
   "metadata": {},
   "outputs": [],
   "source": [
    "del inception_features\n",
    "del xception_features\n",
    "del nasnet_features\n",
    "del inc_resnet_features\n",
    "del final_features\n",
    "gc.collect()"
   ]
  },
  {
   "cell_type": "code",
   "execution_count": null,
   "id": "a47477f2",
   "metadata": {},
   "outputs": [],
   "source": [
    "sample = pd.read_csv('sample_submission.csv')"
   ]
  },
  {
   "cell_type": "code",
   "execution_count": null,
   "id": "668cc42e",
   "metadata": {},
   "outputs": [],
   "source": [
    "sample.shape"
   ]
  },
  {
   "cell_type": "code",
   "execution_count": null,
   "id": "2686403b",
   "metadata": {},
   "outputs": [],
   "source": [
    "sample.describe()"
   ]
  },
  {
   "cell_type": "code",
   "execution_count": null,
   "id": "6a3c49c7",
   "metadata": {},
   "outputs": [],
   "source": [
    "def images_to_array_test(test_path, img_size = (331,331,3)):\n",
    "    test_filenames = [test_path + fname for fname in os.listdir(test_path)]\n",
    "\n",
    "    data_size = len(test_filenames)\n",
    "    images = np.zeros([data_size, img_size[0], img_size[1], 3], dtype=np.uint8)\n",
    "    \n",
    "    \n",
    "    for ix,img_dir in enumerate(tqdm(test_filenames)):\n",
    "        img = load_img(img_dir, target_size = img_size)\n",
    "        images[ix]=img\n",
    "        del img\n",
    "    print('Ouptut Data Size: ', images.shape)\n",
    "    return images\n",
    "\n",
    "test_data = images_to_array_test('C:/Users/Debasmita/OneDrive/Desktop/New folder/test/', img_size)"
   ]
  },
  {
   "cell_type": "code",
   "execution_count": null,
   "id": "03543911",
   "metadata": {},
   "outputs": [],
   "source": [
    "def extact_features(data):\n",
    "    inception_features = get_features(InceptionV3, inception_preprocessor, img_size, data)\n",
    "    xception_features = get_features(Xception, xception_preprocessor, img_size, data)\n",
    "    nasnet_features = get_features(NASNetLarge, nasnet_preprocessor, img_size, data)\n",
    "    inc_resnet_features = get_features(InceptionResNetV2, inc_resnet_preprocessor, img_size, data)\n",
    "\n",
    "    final_features = np.concatenate([inception_features,\n",
    "                                     xception_features,\n",
    "                                     nasnet_features,\n",
    "                                     inc_resnet_features],axis=-1)\n",
    "    \n",
    "    print('Final feature maps shape', final_features.shape)\n",
    "    \n",
    "    #deleting to free up ram memory\n",
    "    del inception_features\n",
    "    del xception_features\n",
    "    del nasnet_features\n",
    "    del inc_resnet_features\n",
    "    gc.collect()"
   ]
  },
  {
   "cell_type": "code",
   "execution_count": null,
   "id": "fa58c6cd",
   "metadata": {},
   "outputs": [],
   "source": [
    "del test_data\n",
    "gc.collect()"
   ]
  },
  {
   "cell_type": "code",
   "execution_count": null,
   "id": "37570c53",
   "metadata": {},
   "outputs": [],
   "source": [
    "pred = model.predict(test_features)"
   ]
  },
  {
   "cell_type": "code",
   "execution_count": null,
   "id": "4b96b3d4",
   "metadata": {},
   "outputs": [],
   "source": [
    "print(pred[0])\n",
    "print(f\"Max value (probability of prediction): {np.max(pred[0])}\") # the max probability value predicted by the model\n",
    "print(f\"Sum: {np.sum(pred[0])}\") # because we used softmax activation in our model, this will be close to 1\n",
    "print(f\"Max index: {np.argmax(pred[0])}\") # the index of where the max value in predictions[0] occurs\n",
    "print(f\"Predicted label: {specis[np.argmax(pred[0])]}\")"
   ]
  },
  {
   "cell_type": "code",
   "execution_count": null,
   "id": "c8a8ce38",
   "metadata": {},
   "outputs": [],
   "source": [
    "preds = pd.DataFrame(columns=[\"id\"] + list(specis))\n",
    "preds.head()"
   ]
  },
  {
   "cell_type": "code",
   "execution_count": null,
   "id": "c779774e",
   "metadata": {},
   "outputs": [],
   "source": [
    "test_path = \"C:/Users/Debasmita/OneDrive/Desktop/New folder/test\"\n",
    "preds[\"id\"] = [os.path.splitext(path)[0] for path in os.listdir(test_path)]\n",
    "preds.head()"
   ]
  },
  {
   "cell_type": "code",
   "execution_count": null,
   "id": "164acbe7",
   "metadata": {},
   "outputs": [],
   "source": [
    "preds.loc[:,list(specis)]= pred\n",
    "\n",
    "preds.to_csv('submission.csv',index=None)\n",
    "preds.head()"
   ]
  },
  {
   "cell_type": "code",
   "execution_count": null,
   "id": "83d15f88",
   "metadata": {},
   "outputs": [],
   "source": []
  }
 ],
 "metadata": {
  "kernelspec": {
   "display_name": "Python 3",
   "language": "python",
   "name": "python3"
  },
  "language_info": {
   "codemirror_mode": {
    "name": "ipython",
    "version": 3
   },
   "file_extension": ".py",
   "mimetype": "text/x-python",
   "name": "python",
   "nbconvert_exporter": "python",
   "pygments_lexer": "ipython3",
   "version": "3.9.1"
  }
 },
 "nbformat": 4,
 "nbformat_minor": 5
}
